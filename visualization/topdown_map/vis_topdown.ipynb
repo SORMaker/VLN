{
 "cells": [
  {
   "cell_type": "markdown",
   "metadata": {},
   "source": [
    "### Visualization for Ground Truth* and Predicted Trajectories"
   ]
  },
  {
   "cell_type": "markdown",
   "metadata": {},
   "source": [
    "List folders in the current directory"
   ]
  },
  {
   "cell_type": "code",
   "execution_count": 70,
   "metadata": {},
   "outputs": [
    {
     "name": "stdout",
     "output_type": "stream",
     "text": [
      "Current working directory: /home/xiezy/projects/VLN-Tutorial/visualization/topdown_map\n",
      "['zsNo4HB9uLZ']\n"
     ]
    }
   ],
   "source": [
    "import json, os\n",
    "print(f\"Current working directory: {os.getcwd()}\")\n",
    "folders = {}\n",
    "scan_dir = \"matterport_mesh/v1/scans\"\n",
    "# scan_dir = \"/matterport_mesh/v1/scans\"\n",
    "files = os.listdir(scan_dir)\n",
    "print(files)\n",
    "for id, name in enumerate(files):\n",
    "    subfolder = os.listdir(scan_dir + \"/\" +name + \"/matterport_mesh/\")\n",
    "    folders[name]=subfolder[0]"
   ]
  },
  {
   "cell_type": "code",
   "execution_count": 71,
   "metadata": {},
   "outputs": [],
   "source": [
    "def idx2scan_folder(idx, trajectory_data):\n",
    "    trajectory = trajectory_data[idx]\n",
    "    instr_id = trajectory['instr_id']\n",
    "    scan = instr_id2scan[instr_id]\n",
    "    txt = instr_id2txt[instr_id]\n",
    "    return [scan, folders[scan]]\n",
    "\n",
    "def traj2conn_json(graph_path, idx, trajectory_data):\n",
    "    trajectory = trajectory_data[idx]\n",
    "    instr_id = trajectory['instr_id']\n",
    "    scan = instr_id2scan[instr_id]\n",
    "    viewpointId2idx={}\n",
    "    with open(graph_path % scan) as f:\n",
    "        conn_data = json.load(f)\n",
    "    for i,item in enumerate(conn_data):\n",
    "        viewpointId2idx[item['image_id']]=i\n",
    "    return trajectory, viewpointId2idx, conn_data\n",
    "\n",
    "def gen_conns(trajectory, viewpointId2idx, conn_data):\n",
    "    trajectory = trajectory_data[idx]\n",
    "    node=conn_data[viewpointId2idx[trajectory['trajectory'][0][0]]]\n",
    "    node={k:v for k,v in node.items()}\n",
    "    node['unobstructed'] = [False]*len(trajectory['trajectory'])\n",
    "    conns=[node]\n",
    "    prev_viewpoint = node['image_id']\n",
    "    for n, (viewpoint, heading, elevation) in enumerate(trajectory['trajectory'][1:]):\n",
    "        node=conn_data[viewpointId2idx[viewpoint]]\n",
    "        node={k:v for k,v in node.items()}\n",
    "        prev_viewpoint = conns[-1]['image_id']\n",
    "        if viewpoint != prev_viewpoint:\n",
    "            assert node['unobstructed'][viewpointId2idx[prev_viewpoint]]\n",
    "            node['unobstructed'] = [False]*len(trajectory['trajectory'])\n",
    "            node['unobstructed'][len(conns)-1]=True\n",
    "            conns.append(node)\n",
    "    return conns"
   ]
  },
  {
   "cell_type": "code",
   "execution_count": 72,
   "metadata": {},
   "outputs": [],
   "source": [
    "def build_dicts(trajectory_path, instruction_path):\n",
    "    with open(trajectory_path) as f:\n",
    "        trajectory_data = json.load(f)\n",
    "    with open(instruction_path) as f:\n",
    "        instruction_data = json.load(f)\n",
    "\n",
    "    instr_id2txt = {\n",
    "        ('%s_%d' % (d['path_id'], n)): txt for d in instruction_data for n, txt in enumerate(d['instructions'])}\n",
    "    instr_id2scan = {\n",
    "        ('%s_%d' % (d['path_id'], n)): d['scan'] for d in instruction_data for n, txt in enumerate(d['instructions'])}\n",
    "    scan2trajidx = {\n",
    "        instr_id2scan[traj['instr_id']]:idx for idx, traj in enumerate(trajectory_data)}\n",
    "    instr_id2trajidx = {\n",
    "        traj['instr_id']:idx for idx, traj in enumerate(trajectory_data)}\n",
    "    return trajectory_data, instruction_data, instr_id2txt, instr_id2scan, scan2trajidx, instr_id2trajidx"
   ]
  },
  {
   "cell_type": "markdown",
   "metadata": {},
   "source": [
    "Specify the trajectory ID and modify the trajectory path"
   ]
  },
  {
   "cell_type": "code",
   "execution_count": 73,
   "metadata": {},
   "outputs": [],
   "source": [
    "instr_id =\"6994_0\"\n",
    "trajectory_path = \"../../seq2seq/results/val_unseen_shortest_agent.json\" #get this after run \"seq2seq/eval.py\"\n",
    "\n",
    "instruction_path = \"../../seq2seq/data/R2R_val_unseen.json\"\n",
    "\n",
    "graph_path = \"../../Matterport3DSimulator/connectivity/%s_connectivity.json\""
   ]
  },
  {
   "cell_type": "code",
   "execution_count": 74,
   "metadata": {},
   "outputs": [
    {
     "name": "stdout",
     "output_type": "stream",
     "text": [
      "[['zsNo4HB9uLZ', 'a641c3f4647545a2a4f5c50f5f5fbb57']]\n",
      "6994_0\n",
      "Exit the bedroom and enter another bedroom straight ahead, next to the table. Wait there. \n",
      "\n",
      "Exit the bedroom and enter another bedroom straight ahead, next to the table. Wait there. \n",
      "Walk past the foot of the bed and out the door on the other side of the room.  After passing through a small hallway, you will see two doors to bedrooms next to each other.  Enter the bedroom on the right and stop after entering the room. \n",
      "Exit bedroom.  Walk forward and enter the door on the right.  Wait inside bedroom. \n"
     ]
    }
   ],
   "source": [
    "trajectory_data, instruction_data, instr_id2txt, instr_id2scan, scan2trajidx, instr_id2trajidx \\\n",
    "= build_dicts(trajectory_path, instruction_path)\n",
    "\n",
    "idxs= [instr_id2trajidx[instr_id]]\n",
    "scan_folders = [idx2scan_folder(idx, trajectory_data) for idx in idxs]\n",
    "print(scan_folders)\n",
    "instr_id = trajectory_data[idxs[0]]['instr_id']\n",
    "print(instr_id)\n",
    "\n",
    "# show instructions\n",
    "\n",
    "instruction = instr_id2txt[instr_id]\n",
    "print(instruction)\n",
    "print('')\n",
    "for i in ['0','1','2']:\n",
    "    print(instr_id2txt[instr_id[:-1]+i])"
   ]
  },
  {
   "cell_type": "markdown",
   "metadata": {},
   "source": [
    "Dump files for visualization\n",
    "\n",
    "`./jolin_mesh_names.json` and `'./%s.json'% scan` will be genereated"
   ]
  },
  {
   "cell_type": "code",
   "execution_count": 75,
   "metadata": {},
   "outputs": [],
   "source": [
    "scan_folders = [idx2scan_folder(idx, trajectory_data) for idx in idxs]\n",
    "\n",
    "with open('./jolin_mesh_names.json', 'w') as fp:\n",
    "    json.dump(scan_folders, fp)\n",
    "\n",
    "for idx, (scan, folder) in zip(idxs, scan_folders):\n",
    "    with open('./%s.json'% scan, 'w') as fp:\n",
    "        trajectory, viewpointId2idx, conn_data=traj2conn_json(graph_path, idx, trajectory_data)\n",
    "        json.dump(gen_conns(trajectory, viewpointId2idx, conn_data), fp)"
   ]
  },
  {
   "cell_type": "markdown",
   "metadata": {},
   "source": [
    "## Visualize the result through the Web Browser"
   ]
  },
  {
   "cell_type": "markdown",
   "metadata": {},
   "source": [
    "### 1. Install the chrome and chrome driver"
   ]
  },
  {
   "cell_type": "code",
   "execution_count": 76,
   "metadata": {},
   "outputs": [
    {
     "data": {
      "text/plain": [
       "'\\n#Check the version of chrome\\n/Applications/Google\\\\ Chrome.app/Contents/MacOS/Google\\\\ Chrome --version\\n\\n#install the chrome driver\\nbrew install --cask chromedriver\\n\\n#verify the installation\\nchromedriver --version\\n'"
      ]
     },
     "execution_count": 76,
     "metadata": {},
     "output_type": "execute_result"
    }
   ],
   "source": [
    "'''\n",
    "#Check the version of chrome\n",
    "/Applications/Google\\ Chrome.app/Contents/MacOS/Google\\ Chrome --version\n",
    "\n",
    "#install the chrome driver\n",
    "brew install --cask chromedriver\n",
    "\n",
    "#verify the installation\n",
    "chromedriver --version\n",
    "'''"
   ]
  },
  {
   "cell_type": "markdown",
   "metadata": {},
   "source": [
    "### 2. Enter the folder and start http server\n"
   ]
  },
  {
   "cell_type": "markdown",
   "metadata": {},
   "source": [
    "Run\n",
    "```\n",
    "cd /projects/VLN-Tutorial/visualization/topdown_map\n",
    "\n",
    "python -m http.server 8001\n",
    "```"
   ]
  },
  {
   "cell_type": "markdown",
   "metadata": {},
   "source": [
    "### 3. Set the dataset in topdown_map folder\n",
    "```\n",
    "# First, ensure the target directory exists\n",
    "mkdir -p /projects/VLN-Tutorial/visualization/topdown_map/matterport_mesh/v1/\n",
    "\n",
    "# Then create the symbolic link\n",
    "ln -s /projects/VLN-Tutorial/duet/datasets/Matterport3D/v1_unzip_scans /projects/VLN-Tutorial/visualization/topdown_map/matterport_mesh/v1/scans\n",
    "```\n",
    "The webpage requires the mesh files to be visualized"
   ]
  },
  {
   "cell_type": "markdown",
   "metadata": {},
   "source": [
    "### 3. Start the server"
   ]
  },
  {
   "cell_type": "code",
   "execution_count": 77,
   "metadata": {},
   "outputs": [
    {
     "ename": "NoSuchDriverException",
     "evalue": "Message: Unable to obtain driver for chrome; For documentation on this error, please visit: https://www.selenium.dev/documentation/webdriver/troubleshooting/errors/driver_location\n",
     "output_type": "error",
     "traceback": [
      "\u001b[0;31m---------------------------------------------------------------------------\u001b[0m",
      "\u001b[0;31mValueError\u001b[0m                                Traceback (most recent call last)",
      "File \u001b[0;32m~/miniconda3/envs/ha3d_simulator/lib/python3.10/site-packages/selenium/webdriver/common/driver_finder.py:64\u001b[0m, in \u001b[0;36mDriverFinder._binary_paths\u001b[0;34m(self)\u001b[0m\n\u001b[1;32m     63\u001b[0m \u001b[38;5;28;01mif\u001b[39;00m \u001b[38;5;129;01mnot\u001b[39;00m Path(path)\u001b[38;5;241m.\u001b[39mis_file():\n\u001b[0;32m---> 64\u001b[0m     \u001b[38;5;28;01mraise\u001b[39;00m \u001b[38;5;167;01mValueError\u001b[39;00m(\u001b[38;5;124mf\u001b[39m\u001b[38;5;124m\"\u001b[39m\u001b[38;5;124mThe path is not a valid file: \u001b[39m\u001b[38;5;132;01m{\u001b[39;00mpath\u001b[38;5;132;01m}\u001b[39;00m\u001b[38;5;124m\"\u001b[39m)\n\u001b[1;32m     65\u001b[0m \u001b[38;5;28mself\u001b[39m\u001b[38;5;241m.\u001b[39m_paths[\u001b[38;5;124m\"\u001b[39m\u001b[38;5;124mdriver_path\u001b[39m\u001b[38;5;124m\"\u001b[39m] \u001b[38;5;241m=\u001b[39m path\n",
      "\u001b[0;31mValueError\u001b[0m: The path is not a valid file: /opt/homebrew/bin/chromedriver",
      "\nThe above exception was the direct cause of the following exception:\n",
      "\u001b[0;31mNoSuchDriverException\u001b[0m                     Traceback (most recent call last)",
      "Cell \u001b[0;32mIn[77], line 12\u001b[0m\n\u001b[1;32m      9\u001b[0m options\u001b[38;5;241m.\u001b[39madd_argument(\u001b[38;5;124mf\u001b[39m\u001b[38;5;124m\"\u001b[39m\u001b[38;5;124m--user-data-dir=\u001b[39m\u001b[38;5;132;01m{\u001b[39;00munique_profile\u001b[38;5;132;01m}\u001b[39;00m\u001b[38;5;124m\"\u001b[39m)\n\u001b[1;32m     10\u001b[0m service \u001b[38;5;241m=\u001b[39m Service(executable_path\u001b[38;5;241m=\u001b[39m\u001b[38;5;124m\"\u001b[39m\u001b[38;5;124m/opt/homebrew/bin/chromedriver\u001b[39m\u001b[38;5;124m\"\u001b[39m)\n\u001b[0;32m---> 12\u001b[0m browser \u001b[38;5;241m=\u001b[39m \u001b[43mwebdriver\u001b[49m\u001b[38;5;241;43m.\u001b[39;49m\u001b[43mChrome\u001b[49m\u001b[43m(\u001b[49m\u001b[43mservice\u001b[49m\u001b[38;5;241;43m=\u001b[39;49m\u001b[43mservice\u001b[49m\u001b[43m,\u001b[49m\u001b[43m \u001b[49m\u001b[43moptions\u001b[49m\u001b[38;5;241;43m=\u001b[39;49m\u001b[43moptions\u001b[49m\u001b[43m)\u001b[49m\n\u001b[1;32m     13\u001b[0m url \u001b[38;5;241m=\u001b[39m \u001b[38;5;124m\"\u001b[39m\u001b[38;5;124mhttp://127.0.0.1:8001/connectivity.html\u001b[39m\u001b[38;5;124m\"\u001b[39m \u001b[38;5;66;03m#the url of the server in local machine\u001b[39;00m\n\u001b[1;32m     14\u001b[0m \u001b[38;5;66;03m# if you run the server in remote machine, you need to change the url to the ip of the remote machine\u001b[39;00m\n",
      "File \u001b[0;32m~/miniconda3/envs/ha3d_simulator/lib/python3.10/site-packages/selenium/webdriver/chrome/webdriver.py:45\u001b[0m, in \u001b[0;36mWebDriver.__init__\u001b[0;34m(self, options, service, keep_alive)\u001b[0m\n\u001b[1;32m     42\u001b[0m service \u001b[38;5;241m=\u001b[39m service \u001b[38;5;28;01mif\u001b[39;00m service \u001b[38;5;28;01melse\u001b[39;00m Service()\n\u001b[1;32m     43\u001b[0m options \u001b[38;5;241m=\u001b[39m options \u001b[38;5;28;01mif\u001b[39;00m options \u001b[38;5;28;01melse\u001b[39;00m Options()\n\u001b[0;32m---> 45\u001b[0m \u001b[38;5;28;43msuper\u001b[39;49m\u001b[43m(\u001b[49m\u001b[43m)\u001b[49m\u001b[38;5;241;43m.\u001b[39;49m\u001b[38;5;21;43m__init__\u001b[39;49m\u001b[43m(\u001b[49m\n\u001b[1;32m     46\u001b[0m \u001b[43m    \u001b[49m\u001b[43mbrowser_name\u001b[49m\u001b[38;5;241;43m=\u001b[39;49m\u001b[43mDesiredCapabilities\u001b[49m\u001b[38;5;241;43m.\u001b[39;49m\u001b[43mCHROME\u001b[49m\u001b[43m[\u001b[49m\u001b[38;5;124;43m\"\u001b[39;49m\u001b[38;5;124;43mbrowserName\u001b[39;49m\u001b[38;5;124;43m\"\u001b[39;49m\u001b[43m]\u001b[49m\u001b[43m,\u001b[49m\n\u001b[1;32m     47\u001b[0m \u001b[43m    \u001b[49m\u001b[43mvendor_prefix\u001b[49m\u001b[38;5;241;43m=\u001b[39;49m\u001b[38;5;124;43m\"\u001b[39;49m\u001b[38;5;124;43mgoog\u001b[39;49m\u001b[38;5;124;43m\"\u001b[39;49m\u001b[43m,\u001b[49m\n\u001b[1;32m     48\u001b[0m \u001b[43m    \u001b[49m\u001b[43moptions\u001b[49m\u001b[38;5;241;43m=\u001b[39;49m\u001b[43moptions\u001b[49m\u001b[43m,\u001b[49m\n\u001b[1;32m     49\u001b[0m \u001b[43m    \u001b[49m\u001b[43mservice\u001b[49m\u001b[38;5;241;43m=\u001b[39;49m\u001b[43mservice\u001b[49m\u001b[43m,\u001b[49m\n\u001b[1;32m     50\u001b[0m \u001b[43m    \u001b[49m\u001b[43mkeep_alive\u001b[49m\u001b[38;5;241;43m=\u001b[39;49m\u001b[43mkeep_alive\u001b[49m\u001b[43m,\u001b[49m\n\u001b[1;32m     51\u001b[0m \u001b[43m\u001b[49m\u001b[43m)\u001b[49m\n",
      "File \u001b[0;32m~/miniconda3/envs/ha3d_simulator/lib/python3.10/site-packages/selenium/webdriver/chromium/webdriver.py:50\u001b[0m, in \u001b[0;36mChromiumDriver.__init__\u001b[0;34m(self, browser_name, vendor_prefix, options, service, keep_alive)\u001b[0m\n\u001b[1;32m     47\u001b[0m \u001b[38;5;28mself\u001b[39m\u001b[38;5;241m.\u001b[39mservice \u001b[38;5;241m=\u001b[39m service\n\u001b[1;32m     49\u001b[0m finder \u001b[38;5;241m=\u001b[39m DriverFinder(\u001b[38;5;28mself\u001b[39m\u001b[38;5;241m.\u001b[39mservice, options)\n\u001b[0;32m---> 50\u001b[0m \u001b[38;5;28;01mif\u001b[39;00m \u001b[43mfinder\u001b[49m\u001b[38;5;241;43m.\u001b[39;49m\u001b[43mget_browser_path\u001b[49m\u001b[43m(\u001b[49m\u001b[43m)\u001b[49m:\n\u001b[1;32m     51\u001b[0m     options\u001b[38;5;241m.\u001b[39mbinary_location \u001b[38;5;241m=\u001b[39m finder\u001b[38;5;241m.\u001b[39mget_browser_path()\n\u001b[1;32m     52\u001b[0m     options\u001b[38;5;241m.\u001b[39mbrowser_version \u001b[38;5;241m=\u001b[39m \u001b[38;5;28;01mNone\u001b[39;00m\n",
      "File \u001b[0;32m~/miniconda3/envs/ha3d_simulator/lib/python3.10/site-packages/selenium/webdriver/common/driver_finder.py:47\u001b[0m, in \u001b[0;36mDriverFinder.get_browser_path\u001b[0;34m(self)\u001b[0m\n\u001b[1;32m     46\u001b[0m \u001b[38;5;28;01mdef\u001b[39;00m\u001b[38;5;250m \u001b[39m\u001b[38;5;21mget_browser_path\u001b[39m(\u001b[38;5;28mself\u001b[39m) \u001b[38;5;241m-\u001b[39m\u001b[38;5;241m>\u001b[39m \u001b[38;5;28mstr\u001b[39m:\n\u001b[0;32m---> 47\u001b[0m     \u001b[38;5;28;01mreturn\u001b[39;00m \u001b[38;5;28;43mself\u001b[39;49m\u001b[38;5;241;43m.\u001b[39;49m\u001b[43m_binary_paths\u001b[49m\u001b[43m(\u001b[49m\u001b[43m)\u001b[49m[\u001b[38;5;124m\"\u001b[39m\u001b[38;5;124mbrowser_path\u001b[39m\u001b[38;5;124m\"\u001b[39m]\n",
      "File \u001b[0;32m~/miniconda3/envs/ha3d_simulator/lib/python3.10/site-packages/selenium/webdriver/common/driver_finder.py:78\u001b[0m, in \u001b[0;36mDriverFinder._binary_paths\u001b[0;34m(self)\u001b[0m\n\u001b[1;32m     76\u001b[0m \u001b[38;5;28;01mexcept\u001b[39;00m \u001b[38;5;167;01mException\u001b[39;00m \u001b[38;5;28;01mas\u001b[39;00m err:\n\u001b[1;32m     77\u001b[0m     msg \u001b[38;5;241m=\u001b[39m \u001b[38;5;124mf\u001b[39m\u001b[38;5;124m\"\u001b[39m\u001b[38;5;124mUnable to obtain driver for \u001b[39m\u001b[38;5;132;01m{\u001b[39;00mbrowser\u001b[38;5;132;01m}\u001b[39;00m\u001b[38;5;124m\"\u001b[39m\n\u001b[0;32m---> 78\u001b[0m     \u001b[38;5;28;01mraise\u001b[39;00m NoSuchDriverException(msg) \u001b[38;5;28;01mfrom\u001b[39;00m\u001b[38;5;250m \u001b[39m\u001b[38;5;21;01merr\u001b[39;00m\n\u001b[1;32m     79\u001b[0m \u001b[38;5;28;01mreturn\u001b[39;00m \u001b[38;5;28mself\u001b[39m\u001b[38;5;241m.\u001b[39m_paths\n",
      "\u001b[0;31mNoSuchDriverException\u001b[0m: Message: Unable to obtain driver for chrome; For documentation on this error, please visit: https://www.selenium.dev/documentation/webdriver/troubleshooting/errors/driver_location\n"
     ]
    }
   ],
   "source": [
    "import tempfile\n",
    "from selenium import webdriver\n",
    "from selenium.webdriver.chrome.options import Options\n",
    "from selenium.webdriver.chrome.service import Service\n",
    "\n",
    "# Create a fresh temporary directory for user data\n",
    "unique_profile = tempfile.mkdtemp()\n",
    "options = Options()\n",
    "options.add_argument(f\"--user-data-dir={unique_profile}\")\n",
    "service = Service(executable_path=\"/opt/homebrew/bin/chromedriver\")\n",
    "\n",
    "browser = webdriver.Chrome(service=service, options=options)\n",
    "url = \"http://127.0.0.1:8001/connectivity.html\" #the url of the server in local machine\n",
    "# if you run the server in remote machine, you need to change the url to the ip of the remote machine\n",
    "browser.get(url)"
   ]
  },
  {
   "cell_type": "code",
   "execution_count": null,
   "metadata": {},
   "outputs": [
    {
     "ename": "NameError",
     "evalue": "name 'browser' is not defined",
     "output_type": "error",
     "traceback": [
      "\u001b[0;31m---------------------------------------------------------------------------\u001b[0m",
      "\u001b[0;31mNameError\u001b[0m                                 Traceback (most recent call last)",
      "Cell \u001b[0;32mIn[18], line 1\u001b[0m\n\u001b[0;32m----> 1\u001b[0m imgData\u001b[38;5;241m=\u001b[39m \u001b[43mbrowser\u001b[49m\u001b[38;5;241m.\u001b[39mexecute_script(\u001b[38;5;124m'\u001b[39m\u001b[38;5;124mreturn renderer.domElement.toDataURL().replace(\u001b[39m\u001b[38;5;124m\"\u001b[39m\u001b[38;5;124mimage/png\u001b[39m\u001b[38;5;124m\"\u001b[39m\u001b[38;5;124m, \u001b[39m\u001b[38;5;124m\"\u001b[39m\u001b[38;5;124mimage/octet-stream\u001b[39m\u001b[38;5;124m\"\u001b[39m\u001b[38;5;124m)\u001b[39m\u001b[38;5;124m'\u001b[39m)\n\u001b[1;32m      2\u001b[0m display(HTML(\u001b[38;5;124m'''\u001b[39m\u001b[38;5;124m<img src=\u001b[39m\u001b[38;5;124m\"\u001b[39m\u001b[38;5;132;01m%s\u001b[39;00m\u001b[38;5;124m\"\u001b[39m\u001b[38;5;124m>\u001b[39m\u001b[38;5;124m'''\u001b[39m\u001b[38;5;241m%\u001b[39m(imgData)))\n",
      "\u001b[0;31mNameError\u001b[0m: name 'browser' is not defined"
     ]
    }
   ],
   "source": [
    "imgData= browser.execute_script('return renderer.domElement.toDataURL().replace(\"image/png\", \"image/octet-stream\")')\n",
    "display(HTML('''<img src=\"%s\">'''%(imgData)))"
   ]
  }
 ],
 "metadata": {
  "kernelspec": {
   "display_name": "ha3d_simulator",
   "language": "python",
   "name": "python3"
  },
  "language_info": {
   "codemirror_mode": {
    "name": "ipython",
    "version": 3
   },
   "file_extension": ".py",
   "mimetype": "text/x-python",
   "name": "python",
   "nbconvert_exporter": "python",
   "pygments_lexer": "ipython3",
   "version": "3.10.16"
  }
 },
 "nbformat": 4,
 "nbformat_minor": 2
}
