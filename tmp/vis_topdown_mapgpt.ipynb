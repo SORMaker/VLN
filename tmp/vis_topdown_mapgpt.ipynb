{
 "cells": [
  {
   "cell_type": "markdown",
   "metadata": {},
   "source": [
    "### Visualization for Ground Truth* and Predicted Trajectories"
   ]
  },
  {
   "cell_type": "markdown",
   "metadata": {},
   "source": [
    "List folders in the current directory"
   ]
  },
  {
   "cell_type": "code",
   "execution_count": 43,
   "metadata": {},
   "outputs": [
    {
     "name": "stdout",
     "output_type": "stream",
     "text": [
      "Current working directory: /home/xiezy/projects/VLN-Tutorial/visualization/topdown_map\n",
      "['zsNo4HB9uLZ', 'Pm6F8kyY3z2', 'p5wJjkQkbXX', 'EDJbREhghzL']\n"
     ]
    }
   ],
   "source": [
    "import json, os\n",
    "print(f\"Current working directory: {os.getcwd()}\")\n",
    "folders = {}\n",
    "scan_dir = \"matterport_mesh/v1/scans\"\n",
    "# scan_dir = \"/matterport_mesh/v1/scans\"\n",
    "files = os.listdir(scan_dir)\n",
    "print(files)\n",
    "for id, name in enumerate(files):\n",
    "    subfolder = os.listdir(scan_dir + \"/\" +name + \"/matterport_mesh/\")\n",
    "    folders[name]=subfolder[0]"
   ]
  },
  {
   "cell_type": "markdown",
   "metadata": {},
   "source": [
    "Specify the trajectory ID and modify the trajectory path"
   ]
  },
  {
   "cell_type": "code",
   "execution_count": 103,
   "metadata": {},
   "outputs": [],
   "source": [
    "instr_id =\"3965_1\"\n",
    "\n",
    "# trajectory_path = \"../../seq2seq/results/shortest.json\"\n",
    "trajectory_path = \"../../MapGPT/merged_preds.json\"\n",
    "\n",
    "instruction_path = \"../../seq2seq/data/R2R.json\"\n",
    "\n",
    "graph_path = \"../../Matterport3DSimulator/connectivity/%s_connectivity.json\""
   ]
  },
  {
   "cell_type": "code",
   "execution_count": 104,
   "metadata": {},
   "outputs": [],
   "source": [
    "def build_dicts(trajectory_path, instruction_path):\n",
    "    with open(trajectory_path) as f:\n",
    "        trajectory_data = json.load(f)\n",
    "    with open(instruction_path) as f:\n",
    "        instruction_data = json.load(f)\n",
    "\n",
    "    instr_id2txt = {\n",
    "        ('%s_%d' % (d['path_id'], n)): txt for d in instruction_data for n, txt in enumerate(d['instructions'])}\n",
    "    instr_id2scan = {\n",
    "        ('%s_%d' % (d['path_id'], n)): d['scan'] for d in instruction_data for n, txt in enumerate(d['instructions'])}\n",
    "    scan2trajidx = {\n",
    "        instr_id2scan[traj['instr_id']]:idx for idx, traj in enumerate(trajectory_data)}\n",
    "    instr_id2trajidx = {\n",
    "        traj['instr_id']:idx for idx, traj in enumerate(trajectory_data)}\n",
    "    return trajectory_data, instruction_data, instr_id2txt, instr_id2scan, scan2trajidx, instr_id2trajidx"
   ]
  },
  {
   "cell_type": "code",
   "execution_count": 125,
   "metadata": {},
   "outputs": [],
   "source": [
    "def idx2scan_folder(idx, trajectory_data, instr_id2scan, instr_id2txt):\n",
    "    trajectory = trajectory_data[idx]\n",
    "    instr_id = trajectory['instr_id']\n",
    "    scan = instr_id2scan[instr_id]\n",
    "    txt = instr_id2txt[instr_id]\n",
    "    return [scan, folders[scan]]\n",
    "\n",
    "def traj2conn_json(graph_path, idx, trajectory_data, instr_id2scan):\n",
    "    trajectory = trajectory_data[idx]\n",
    "    instr_id = trajectory['instr_id']\n",
    "    scan = instr_id2scan[instr_id]\n",
    "    viewpointId2idx={}\n",
    "    with open(graph_path % scan) as f:\n",
    "        conn_data = json.load(f)\n",
    "    for i,item in enumerate(conn_data):\n",
    "        viewpointId2idx[item['image_id']]=i\n",
    "    return trajectory, viewpointId2idx, conn_data\n",
    "\n",
    "def gen_conns(trajectory, viewpointId2idx, conn_data, trajectory_data, idx):\n",
    "    trajectory = trajectory_data[idx]\n",
    "    node=conn_data[viewpointId2idx[trajectory['trajectory'][0][0]]]\n",
    "    node={k:v for k,v in node.items()}\n",
    "    node['unobstructed'] = [False]*len(trajectory['trajectory'])\n",
    "    conns=[node]\n",
    "    print(conns)\n",
    "    prev_viewpoint = node['image_id']\n",
    "    for n, viewpoint in enumerate(trajectory['trajectory'][1:]):\n",
    "        viewpoint = viewpoint[0]\n",
    "        node=conn_data[viewpointId2idx[viewpoint]]\n",
    "        node={k:v for k,v in node.items()}\n",
    "        prev_viewpoint = conns[-1]['image_id']\n",
    "        if viewpoint != prev_viewpoint:\n",
    "            assert node['unobstructed'][viewpointId2idx[prev_viewpoint]]\n",
    "            node['unobstructed'] = [False]*len(trajectory['trajectory'])\n",
    "            node['unobstructed'][len(conns)-1]=True\n",
    "            conns.append(node)\n",
    "    return conns"
   ]
  },
  {
   "cell_type": "code",
   "execution_count": 126,
   "metadata": {},
   "outputs": [
    {
     "name": "stdout",
     "output_type": "stream",
     "text": [
      "[['zsNo4HB9uLZ', 'a641c3f4647545a2a4f5c50f5f5fbb57']]\n",
      "3965_1\n",
      "Exit the bedroom then turn left down the hall. Stop just past the eye exam chart on the wall. \n",
      "\n",
      "Exit the room then go straight and turn left. Go straight until you pass an eye chart picture frame on the left wall then wait there. \n",
      "Exit the bedroom then turn left down the hall. Stop just past the eye exam chart on the wall. \n",
      "Exit the bedroom and turn left, past the bathroom. Continue through the short hallway, past the washroom and pantry. Wait in the intersection with the long hallway, in between the low shelf and table. \n"
     ]
    }
   ],
   "source": [
    "trajectory_data, instruction_data, instr_id2txt, instr_id2scan, scan2trajidx, instr_id2trajidx \\\n",
    "= build_dicts(trajectory_path, instruction_path)\n",
    "\n",
    "idxs= [instr_id2trajidx[instr_id]]\n",
    "\n",
    "scan_folders = [idx2scan_folder(idx, trajectory_data, instr_id2scan, instr_id2txt) for idx in idxs]\n",
    "print(scan_folders)\n",
    "instr_id = trajectory_data[idxs[0]]['instr_id']\n",
    "print(instr_id)\n",
    "\n",
    "# show instructions\n",
    "\n",
    "instruction = instr_id2txt[instr_id]\n",
    "print(instruction)\n",
    "print('')\n",
    "for i in ['0','1','2']:\n",
    "    print(instr_id2txt[instr_id[:-1]+i])"
   ]
  },
  {
   "cell_type": "markdown",
   "metadata": {},
   "source": [
    "Dump files for visualization\n",
    "\n",
    "`./jolin_mesh_names.json` and `'./%s.json'% scan` will be genereated"
   ]
  },
  {
   "cell_type": "code",
   "execution_count": 127,
   "metadata": {},
   "outputs": [
    {
     "name": "stdout",
     "output_type": "stream",
     "text": [
      "{'a_t': {'0': 2, '1': 2, '2': 1, '3': 1, '4': 5, '5': 3, '6': 3, '7': 0}, 'evaluation': {'CLS': [0.5623256863016253], 'DTW': [3.511435327144301], 'SDTW': [0.7912860953120807], 'action_steps': [7], 'instr_id': ['3965_1'], 'nDTW': [0.7912860953120807], 'nav_error': [0], 'oracle_error': [0], 'oracle_success': [1.0], 'spl': [0.5623256863016253], 'success': [1.0], 'trajectory_lengths': [12.089188306059036], 'trajectory_steps': [7]}, 'gt_traj': ['ead481533f834704bd489d3d44b6a03a', 'b8c7c025564d4c8391833236f4f782c0', 'e1f88263b98d46909c3e00e9250b6a4b', '81dab76afc424a5b9ab7c7d2432c633f', 'd9d0b72a2929495cb1fc8df42c84b18a'], 'instr_id': '3965_1', 'scan': 'zsNo4HB9uLZ', 'trajectory': [['ead481533f834704bd489d3d44b6a03a'], ['b8c7c025564d4c8391833236f4f782c0'], ['4c78adff490c4973aa3e09bfe14217aa'], ['e6ba61dd42c64410877149cc11766a8b'], ['b8c7c025564d4c8391833236f4f782c0'], ['e1f88263b98d46909c3e00e9250b6a4b'], ['81dab76afc424a5b9ab7c7d2432c633f'], ['d9d0b72a2929495cb1fc8df42c84b18a']]}\n",
      "{'213f4f2f0d204758bc51252aed60cf82': 0, '997b813443c64de5b38312642e937223': 1, 'b8c7c025564d4c8391833236f4f782c0': 2, '1bfb89f3a44a419a9cf1fdc9d38a2800': 3, '0cf178fb23754cc0ac3b93398b112ddc': 4, '4c78adff490c4973aa3e09bfe14217aa': 5, '7d1391357299496cbb82840960d05a66': 6, '38342af67f5d4b73ad4cff4402f52d83': 7, 'de7a74588c2842e9ba391abb153a0257': 8, 'faad06c7cb2b4a6f9220e7f6f87c800b': 9, 'd9d0b72a2929495cb1fc8df42c84b18a': 10, '19b2aa3137ae44f19821ec0f3da4a836': 11, '5e966f4bdbc849f4b2b200e2f8cc49a0': 12, '38e0c09ac7a748dbadea6471861b30c3': 13, '6416ac70316f44d1ae7ec5a3029b1703': 14, '11bdfcf0a0984901a1d6f60fdd8ee4a6': 15, 'ed8645386a0a4de2bfc486e0a1d02468': 16, '4c0aab63a4434cf4878e6f5b3ce9a70b': 17, 'f04ae8ebf8254168814bc669635b3775': 18, 'a80acc2328154455965a8be4133dee71': 19, '9b1e2472265c46989eb1c3911aa5971b': 20, '487a4cc75db94e56aa4d1d35866736fc': 21, '94432dd9d465486b8acfb7013ffc3fca': 22, 'b5f873817a0b4b60b8447e96b0b4e955': 23, 'b6ca0cc195da4688ba67fa53f0345b98': 24, '76c7a665d2b242bfa203e7f394b1353e': 25, '81dab76afc424a5b9ab7c7d2432c633f': 26, '2c687aab96b7498b92023a4888c6e7ab': 27, '2e349b06dd94494ea4b887458e4ab4a3': 28, 'ab993d543aed47fe9360f05eb03f301b': 29, '65eefaf93e6249908e6389eb4eabf0f5': 30, '320c0ec6c0a343fea6227a2699d0eb7a': 31, '6472b7993a6e440a9d0e12b560ff4616': 32, 'c74a7da1a0e04e7b8b14e1cdab613653': 33, 'e6ba61dd42c64410877149cc11766a8b': 34, 'd1ef235f79dd480da8b1f320bf073701': 35, 'ead481533f834704bd489d3d44b6a03a': 36, 'dc046de639fa43e29b3da505c030f58f': 37, 'f237319a500640d8ac172db225a3ce9c': 38, '5340c12f388446b589bf2c082c39bd5e': 39, '34c20d99605545a885983a9b004f27a2': 40, 'e1f88263b98d46909c3e00e9250b6a4b': 41, 'aabf649f606a48a1b16d5bdcd5970602': 42, '3493ecf114864afc99d568421c0b42f6': 43, '145a35f5ca544943b8bc2f997e5f9978': 44, 'd48feeed33774f64adb093679b9fcebf': 45, '84f05044aa1542a18b082255100f2c39': 46, 'b1d919ce693d442d8273032815ce860a': 47, '61c98135870e449a846737f610d0e969': 48, '935e0f6088a54fba87990835d1997d9a': 49, '0753202108e24c0094f09c60b8f36127': 50, '38260e04f02546a6af3dcaf8689546a2': 51, '2caadd7bc71c43d5ad10f4e7f10a3455': 52}\n",
      "[{'image_id': '213f4f2f0d204758bc51252aed60cf82', 'pose': [-0.282895, -0.0188659, 0.958965, -1.72456, -0.95915, 0.00450401, -0.282861, 5.76316, 0.00101728, -0.999812, -0.0193692, 1.54774, 0, 0, 0, 1], 'included': True, 'visible': [False, False, True, False, False, False, False, False, False, False, False, False, True, False, False, True, False, False, False, False, False, False, True, False, False, False, False, False, False, False, False, False, False, False, False, False, True, False, False, False, False, True, False, False, False, False, False, False, False, False, False, False, False], 'unobstructed': [False, False, False, False, False, False, False, False, False, False, False, False, True, False, False, True, False, False, False, False, False, False, True, False, False, False, False, False, False, False, False, False, False, False, False, False, False, False, False, False, False, False, False, False, False, False, False, False, False, False, False, False, False], 'height': 1.5498846811425961}, {'image_id': '997b813443c64de5b38312642e937223', 'pose': [0.63143, -0.0065266, 0.775405, 7.71025, -0.775368, -0.0182151, 0.631247, 4.81319, 0.0100042, -0.999813, -0.0165619, 1.55296, 0, 0, 0, 1], 'included': True, 'visible': [False, False, True, False, False, False, False, False, False, False, False, False, False, False, False, False, False, False, False, True, False, False, False, False, False, False, False, False, False, False, False, False, False, True, False, False, True, False, False, False, False, True, False, False, False, False, False, False, False, False, False, False, False], 'unobstructed': [False, False, True, False, False, False, False, False, False, False, False, False, False, False, False, False, False, False, False, False, False, False, False, False, False, False, False, False, False, False, False, False, False, True, False, False, True, False, False, False, False, False, False, False, False, False, False, False, False, False, False, False, False], 'height': 1.5500112944587476}, {'image_id': 'b8c7c025564d4c8391833236f4f782c0', 'pose': [-0.858538, -0.00738249, -0.512696, 5.66928, 0.512665, 0.00575224, -0.858569, 4.21106, 0.00928758, -0.999956, -0.00115362, 1.56197, 0, 0, 0, 1], 'included': True, 'visible': [True, True, False, False, False, True, False, False, False, False, False, True, False, False, False, True, False, False, False, True, False, False, False, False, False, False, False, False, False, False, False, False, False, False, True, False, True, False, False, False, False, True, False, False, False, False, False, True, False, False, False, False, False], 'unobstructed': [False, True, False, False, False, True, False, False, False, False, False, False, False, False, False, False, False, False, False, False, False, False, False, False, False, False, False, False, False, False, False, False, False, False, True, False, True, False, False, False, False, True, False, False, False, False, False, False, False, False, False, False, False], 'height': 1.5582309771582998}, {'image_id': '1bfb89f3a44a419a9cf1fdc9d38a2800', 'pose': [0.549214, 0.00040041, 0.835682, 17.2065, -0.835578, -0.0154574, 0.549154, 2.06002, 0.0131374, -0.99988, -0.00815468, 1.55351, 0, 0, 0, 1], 'included': True, 'visible': [False, False, False, False, False, False, False, False, True, False, False, False, False, False, True, False, False, False, False, False, True, True, False, False, False, False, True, False, False, False, False, True, False, False, False, False, False, False, False, False, True, False, False, False, True, False, False, False, False, False, True, False, False], 'unobstructed': [False, False, False, False, False, False, False, False, False, False, False, False, False, False, False, False, False, False, False, False, False, False, False, False, False, False, False, False, False, False, False, False, False, False, False, False, False, False, False, False, True, False, False, False, False, False, False, False, False, False, True, False, False], 'height': 1.5488343786205938}, {'image_id': '0cf178fb23754cc0ac3b93398b112ddc', 'pose': [-0.995321, -0.00939696, -0.0961605, 3.34253, 0.096086, 0.00808792, -0.99534, 6.04223, 0.0101309, -0.999923, -0.00714701, 1.55388, 0, 0, 0, 1], 'included': True, 'visible': [False, False, False, False, False, False, False, False, False, False, True, False, False, False, False, True, False, False, False, True, False, False, False, False, False, False, True, False, False, False, False, False, False, False, False, False, False, False, False, False, False, True, False, False, False, False, False, False, False, False, False, False, False], 'unobstructed': [False, False, False, False, False, False, False, False, False, False, False, False, False, False, False, True, False, False, False, True, False, False, False, False, False, False, False, False, False, False, False, False, False, False, False, False, False, False, False, False, False, True, False, False, False, False, False, False, False, False, False, False, False], 'height': 1.5460376044640698}, {'image_id': '4c78adff490c4973aa3e09bfe14217aa', 'pose': [-0.0891822, -0.00385739, 0.996008, 5.52884, -0.995952, -0.0108924, -0.0892195, 5.09539, 0.0111931, -0.999933, -0.00287022, 1.55617, 0, 0, 0, 1], 'included': True, 'visible': [False, False, True, False, False, False, False, False, False, False, False, False, False, False, False, False, False, False, False, False, False, False, False, False, False, False, False, False, False, False, False, False, False, False, True, False, False, False, False, False, False, False, False, False, False, False, False, False, False, False, False, False, False], 'unobstructed': [False, False, True, False, False, False, False, False, False, False, False, False, False, False, False, False, False, False, False, False, False, False, False, False, False, False, False, False, False, False, False, False, False, False, True, False, True, False, False, False, False, False, False, False, False, False, False, False, False, False, False, False, False], 'height': 1.5574139738069896}, {'image_id': '7d1391357299496cbb82840960d05a66', 'pose': [-0.610715, -0.00761814, -0.791814, 11.327, 0.791727, 0.0117885, -0.610762, 4.37828, 0.0139872, -0.999901, -0.00116776, 1.56109, 0, 0, 0, 1], 'included': True, 'visible': [False, False, False, False, False, False, False, False, False, False, False, False, False, True, False, False, False, False, False, False, False, False, False, True, False, False, False, False, False, False, True, False, True, False, False, False, False, False, False, False, False, False, False, False, False, False, False, False, True, False, True, True, False], 'unobstructed': [False, False, False, False, False, False, False, False, False, False, False, False, False, False, False, False, False, False, False, False, False, False, False, True, False, False, False, False, False, False, True, False, False, False, False, False, False, False, False, False, False, False, False, False, False, False, False, False, False, False, True, False, False], 'height': 1.5516487678655702}, {'image_id': '38342af67f5d4b73ad4cff4402f52d83', 'pose': [-0.251234, -0.0129726, -0.967839, 18.7693, 0.967562, 0.0240476, -0.251484, 7.28519, 0.0265367, -0.999626, 0.00651035, 1.53852, 0, 0, 0, 1], 'included': True, 'visible': [False, False, False, False, False, False, False, False, False, True, False, False, False, False, False, False, False, False, False, False, False, False, False, False, False, False, False, True, True, False, False, False, False, False, False, False, False, False, False, False, False, False, False, False, False, False, False, False, False, False, False, True, False], 'unobstructed': [False, False, False, False, False, False, False, False, False, True, False, False, False, False, False, False, False, False, False, False, False, False, False, False, False, False, False, False, False, False, False, False, False, False, False, False, False, False, False, False, False, False, False, False, False, False, False, False, False, False, False, True, False], 'height': 1.54435664219747}, {'image_id': 'de7a74588c2842e9ba391abb153a0257', 'pose': [0.936184, 0.00272782, 0.351501, 7.57684, -0.351497, -0.00167714, 0.936187, 2.44477, 0.00314331, -0.999995, -0.000611142, 1.5603, 0, 0, 0, 1], 'included': True, 'visible': [False, False, False, True, False, False, False, False, False, False, False, False, False, False, True, False, False, False, False, False, True, True, False, False, False, False, True, False, False, False, False, True, False, False, False, False, False, False, False, False, True, False, False, False, False, False, False, False, False, False, True, False, False], 'unobstructed': [False, False, False, False, False, False, False, False, False, False, False, False, False, False, True, False, False, False, False, False, True, False, False, False, False, False, False, False, False, False, False, False, False, False, False, False, False, False, False, False, False, False, False, False, False, False, False, False, False, False, False, False, False], 'height': 1.556103423781391}, {'image_id': 'faad06c7cb2b4a6f9220e7f6f87c800b', 'pose': [0.783055, -0.00204264, -0.621949, 18.3669, 0.621952, 0.00189579, 0.783053, 4.86648, -0.000420369, -0.999996, 0.00275508, 1.53755, 0, 0, 0, 1], 'included': True, 'visible': [False, False, False, False, False, False, False, True, False, False, False, False, False, True, False, False, False, False, False, False, False, False, False, True, False, False, False, False, False, False, False, False, False, False, False, False, False, False, False, False, False, False, True, False, False, False, False, False, True, False, False, True, False], 'unobstructed': [False, False, False, False, False, False, False, True, False, False, False, False, False, False, False, False, False, False, False, False, False, False, False, False, False, False, False, False, False, False, False, False, False, False, False, False, False, False, False, False, False, False, True, False, False, False, False, False, False, False, False, True, False], 'height': 1.5437358554586564}, {'image_id': 'd9d0b72a2929495cb1fc8df42c84b18a', 'pose': [0.956162, 0.000844065, 0.292838, 3.99344, -0.292822, -0.00821696, 0.956132, 0.243735, 0.00321332, -0.999966, -0.00760943, 1.55276, 0, 0, 0, 1], 'included': True, 'visible': [False, False, False, False, True, False, False, False, False, False, False, False, False, False, False, False, False, False, False, False, False, False, False, False, True, False, True, False, False, True, False, False, False, False, False, False, False, True, True, False, True, True, False, True, True, False, True, False, False, True, False, False, False], 'unobstructed': [False, False, False, False, False, False, False, False, False, False, False, False, False, False, False, False, False, False, False, False, False, False, False, False, True, False, True, False, False, True, False, False, False, False, False, False, False, True, False, False, False, False, False, False, False, False, False, False, False, False, False, False, False], 'height': 1.5499529321294032}, {'image_id': '19b2aa3137ae44f19821ec0f3da4a836', 'pose': [0.966457, 0.0035652, -0.256803, 0.208196, 0.256802, 0.000769122, 0.966464, 3.83526, 0.00364319, -0.999993, -0.000172074, 1.54639, 0, 0, 0, 1], 'included': True, 'visible': [False, False, True, False, False, False, False, False, False, False, False, False, False, False, False, False, False, False, False, True, False, False, False, False, False, False, False, False, False, False, False, False, False, False, False, False, True, False, False, False, False, True, False, False, False, False, False, True, False, False, False, False, False], 'unobstructed': [False, False, False, False, False, False, False, False, False, False, False, False, False, False, False, False, False, False, False, True, False, False, False, False, False, False, False, False, False, False, False, False, False, False, False, False, False, False, False, False, False, False, False, False, False, False, False, True, False, False, False, False, False], 'height': 1.5492351652105973}, {'image_id': '5e966f4bdbc849f4b2b200e2f8cc49a0', 'pose': [-0.796281, -0.00620961, 0.604895, -1.80012, -0.604866, -0.00602946, -0.796305, 7.49627, 0.00859197, -0.999962, 0.00104532, 1.54019, 0, 0, 0, 1], 'included': True, 'visible': [True, False, False, False, False, False, False, False, False, False, False, False, False, False, False, True, False, False, False, False, False, False, False, False, False, False, False, False, False, False, False, False, False, False, False, False, False, False, False, False, False, False, False, False, False, False, False, False, False, False, False, False, False], 'unobstructed': [True, False, False, False, False, False, False, False, False, False, False, False, False, False, False, True, False, False, False, False, False, False, True, False, False, False, False, False, False, False, False, False, False, False, False, False, False, False, False, False, False, False, False, False, False, False, False, False, False, False, False, False, False], 'height': 0.9603817586584596}, {'image_id': '38e0c09ac7a748dbadea6471861b30c3', 'pose': [0.644184, 0.0089343, -0.764818, 13.6494, 0.764728, 0.0118051, 0.644245, 4.2417, 0.0147847, -0.99989, 0.000772502, 1.55025, 0, 0, 0, 1], 'included': True, 'visible': [False, False, False, False, False, False, True, False, False, True, False, False, False, False, False, False, False, False, False, False, False, False, False, True, False, False, False, False, False, False, False, False, False, False, False, False, False, False, False, False, False, False, False, False, False, False, False, False, True, False, False, True, False], 'unobstructed': [False, False, False, False, False, False, False, False, False, False, False, False, False, False, False, False, False, False, False, False, False, False, False, True, False, False, False, False, False, False, False, False, False, False, False, False, False, False, False, False, False, False, False, False, False, False, False, False, True, False, False, False, False], 'height': 1.5486673688490387}, {'image_id': '6416ac70316f44d1ae7ec5a3029b1703', 'pose': [0.796841, 0.00219211, 0.604186, 9.91017, -0.60418, -0.00257617, 0.796843, 2.42411, 0.0033033, -0.999994, -0.000728209, 1.55549, 0, 0, 0, 1], 'included': True, 'visible': [False, False, False, True, False, False, False, False, True, False, False, False, False, False, False, False, False, False, True, False, True, True, False, False, False, False, True, False, False, False, False, True, False, False, False, False, False, False, False, False, True, False, False, False, False, True, True, False, False, False, True, False, False], 'unobstructed': [False, False, False, False, False, False, False, False, True, False, False, False, False, False, False, False, False, False, False, False, False, True, False, False, False, False, False, False, False, False, False, False, False, False, False, False, False, False, False, False, False, False, False, False, False, False, False, False, False, False, False, False, False], 'height': 1.5504638648887963}, {'image_id': '11bdfcf0a0984901a1d6f60fdd8ee4a6', 'pose': [0.729697, 0.0219143, -0.683419, 1.39522, 0.683624, -0.00266748, 0.729829, 4.87617, 0.0141708, -0.999756, -0.0169275, 1.54855, 0, 0, 0, 1], 'included': True, 'visible': [True, False, True, False, True, False, False, False, False, False, False, False, True, False, False, False, False, False, False, True, False, False, True, False, False, False, False, False, False, False, False, False, False, False, False, False, True, False, False, False, False, True, False, False, False, False, False, False, False, False, False, False, False], 'unobstructed': [True, False, False, False, True, False, False, False, False, False, False, False, True, False, False, False, False, False, False, True, False, False, True, False, False, False, False, False, False, False, False, False, False, False, False, False, False, False, False, False, False, True, False, False, False, False, False, False, False, False, False, False, False], 'height': 1.549673914659373}, {'image_id': 'ed8645386a0a4de2bfc486e0a1d02468', 'pose': [-0.717791, 0.0121878, 0.696151, 6.74068, -0.696255, -0.0154672, -0.717628, -3.86993, 0.00202129, -0.999806, 0.0195882, 1.5375, 0, 0, 0, 1], 'included': True, 'visible': [False, False, False, False, False, False, False, False, False, False, True, False, False, False, False, False, False, False, False, False, False, False, False, False, False, False, False, False, False, True, False, False, False, False, False, False, False, True, True, False, False, False, False, False, False, False, False, False, False, False, False, False, True], 'unobstructed': [False, False, False, False, False, False, False, False, False, False, False, False, False, False, False, False, False, False, False, False, False, False, False, False, False, False, False, False, False, True, False, False, False, False, False, False, False, True, True, False, False, False, False, False, False, False, False, False, False, False, False, False, True], 'height': 1.5352465112768274}, {'image_id': '4c0aab63a4434cf4878e6f5b3ce9a70b', 'pose': [0.00166794, -0.015083, 0.999885, 13.5241, -0.999995, 0.00263289, 0.00170783, 5.60713, -0.0026583, -0.999883, -0.0150784, 1.55525, 0, 0, 0, 1], 'included': True, 'visible': [False, False, False, False, False, False, False, False, False, False, False, False, False, False, False, False, False, False, False, False, False, False, False, False, False, False, False, True, False, False, False, False, False, False, False, False, False, False, False, False, False, False, False, False, False, False, False, False, False, False, False, False, False], 'unobstructed': [False, False, False, False, False, False, False, False, False, False, False, False, False, False, False, False, False, False, False, False, False, False, False, False, False, False, False, True, False, False, False, False, False, False, False, False, False, False, False, False, False, False, False, False, False, False, False, False, False, False, False, False, False], 'height': 1.550198685015908}, {'image_id': 'f04ae8ebf8254168814bc669635b3775', 'pose': [0.799472, 0.000970767, -0.600703, 13.0464, 0.600704, -0.00141813, 0.79947, -1.87397, -7.57338e-05, -0.999998, -0.00171675, 1.55895, 0, 0, 0, 1], 'included': True, 'visible': [False, False, False, False, False, False, False, False, False, False, False, False, False, False, True, False, False, False, False, False, False, True, False, True, False, True, False, False, False, False, False, False, False, False, False, False, False, False, False, False, False, False, False, True, False, True, True, False, False, False, True, False, False], 'unobstructed': [False, False, False, False, False, False, False, False, False, False, False, False, False, False, False, False, False, False, False, False, False, False, False, False, False, True, False, False, False, False, False, False, False, False, False, False, False, False, False, False, False, False, False, True, False, True, True, False, False, False, True, False, False], 'height': 1.5563386363737688}, {'image_id': 'a80acc2328154455965a8be4133dee71', 'pose': [0.580252, 0.0134287, -0.814326, 1.60582, 0.814392, 0.000981352, 0.580315, 3.82143, 0.00859207, -0.999909, -0.0103667, 1.55381, 0, 0, 0, 1], 'included': True, 'visible': [False, False, True, False, True, False, False, False, False, False, False, True, False, False, False, True, False, False, False, False, True, False, False, False, False, False, False, False, False, False, False, False, False, False, False, False, True, False, False, False, False, True, False, False, False, False, False, True, False, False, False, False, False], 'unobstructed': [False, False, False, False, True, False, False, False, False, False, False, True, False, False, False, True, False, False, False, False, True, False, False, False, False, False, False, False, False, False, False, False, False, False, False, False, False, False, False, False, False, True, False, False, False, False, False, False, False, False, False, False, False], 'height': 1.5572806614151598}, {'image_id': '9b1e2472265c46989eb1c3911aa5971b', 'pose': [0.980239, 0.0058336, 0.197729, 5.93278, -0.197718, -0.00244003, 0.980256, 2.37949, 0.00620093, -0.99998, -0.00123825, 1.55682, 0, 0, 0, 1], 'included': True, 'visible': [False, False, False, True, False, False, False, False, True, False, False, False, False, False, True, False, False, False, False, False, False, True, False, False, False, False, True, False, False, False, False, True, False, False, False, False, False, False, False, True, False, False, False, False, False, False, False, False, False, False, True, False, False], 'unobstructed': [False, False, False, False, False, False, False, False, True, False, False, False, False, False, False, False, False, False, False, True, False, False, False, False, False, False, True, False, False, False, False, False, False, False, False, False, False, False, False, False, False, False, False, False, False, False, False, False, False, False, False, False, False], 'height': 1.5499552146557336}, {'image_id': '487a4cc75db94e56aa4d1d35866736fc', 'pose': [0.85003, 0.00860923, -0.526663, 12.4616, 0.526681, 0.000146587, 0.850063, 2.39022, 0.00739563, -0.999963, -0.00440956, 1.55895, 0, 0, 0, 1], 'included': True, 'visible': [False, False, False, True, False, False, False, False, True, False, False, False, False, False, True, False, False, False, True, False, True, False, False, True, False, True, True, False, False, False, True, True, False, False, False, False, False, False, False, False, False, False, False, True, False, False, True, False, False, False, True, False, False], 'unobstructed': [False, False, False, False, False, False, False, False, False, False, False, False, False, False, True, False, False, False, False, False, False, False, False, True, False, False, False, False, False, False, True, False, False, False, False, False, False, False, False, False, False, False, False, True, False, False, True, False, False, False, True, False, False], 'height': 1.5533162392943451}, {'image_id': '94432dd9d465486b8acfb7013ffc3fca', 'pose': [0.990079, 0.0088532, 0.14023, 0.395214, -0.140177, -0.00628097, 0.990106, 5.5827, 0.00964643, -0.999941, -0.00497749, 1.55252, 0, 0, 0, 1], 'included': True, 'visible': [True, False, False, False, False, False, False, False, False, False, False, False, True, False, False, True, False, False, False, False, False, False, False, False, False, False, False, False, False, False, False, False, False, False, False, False, False, False, False, False, False, True, False, False, False, False, False, False, False, False, False, False, False], 'unobstructed': [True, False, False, False, False, False, False, False, False, False, False, False, True, False, False, True, False, False, False, False, False, False, False, False, False, False, False, False, False, False, False, False, False, False, False, False, False, False, False, False, False, False, False, False, False, False, False, False, False, False, False, False, False], 'height': 1.5526716192945342}, {'image_id': 'b5f873817a0b4b60b8447e96b0b4e955', 'pose': [0.997117, 0.00293207, 0.0758246, 12.5761, -0.075827, 0.000713693, 0.997121, 4.27015, 0.00286956, -0.999995, 0.000934117, 1.55497, 0, 0, 0, 1], 'included': True, 'visible': [False, False, False, False, False, False, True, False, False, True, False, False, False, True, False, False, False, False, True, False, False, True, False, False, False, True, False, False, False, False, False, False, False, False, False, False, False, False, False, False, False, False, False, True, False, False, False, False, True, False, False, True, False], 'unobstructed': [False, False, False, False, False, False, True, False, False, False, False, False, False, True, False, False, False, False, False, False, False, True, False, False, False, False, False, False, False, False, False, False, False, False, False, False, False, False, False, False, False, False, False, False, False, False, False, False, False, False, False, False, False], 'height': 1.5523927478580184}, {'image_id': 'b6ca0cc195da4688ba67fa53f0345b98', 'pose': [-0.850832, -0.0107516, 0.525328, 1.92883, -0.525344, -0.00145048, -0.850888, 0.0842671, 0.00991045, -0.999941, -0.00441403, 1.5593, 0, 0, 0, 1], 'included': True, 'visible': [False, False, False, False, False, False, False, False, False, False, True, False, False, False, False, False, False, False, False, False, False, False, False, False, False, False, False, False, False, True, False, False, False, False, False, False, False, False, True, False, True, False, False, True, True, False, True, False, False, True, False, False, False], 'unobstructed': [False, False, False, False, False, False, False, False, False, False, True, False, False, False, False, False, False, False, False, False, False, False, False, False, False, False, False, False, False, False, False, False, False, False, False, False, False, False, False, False, False, False, False, False, False, False, False, False, False, True, False, False, False], 'height': 1.5644884381050064}, {'image_id': '76c7a665d2b242bfa203e7f394b1353e', 'pose': [0.98641, -0.00138555, 0.164293, 11.5577, -0.164294, -0.000610509, 0.986411, -3.99603, -0.00126638, -0.999999, -0.000829698, 1.56339, 0, 0, 0, 1], 'included': True, 'visible': [False, False, False, False, False, False, False, False, False, False, False, False, False, False, False, False, False, False, True, False, False, True, False, True, False, False, False, False, False, False, False, False, False, False, False, False, False, False, False, False, False, False, False, True, False, True, True, False, False, False, True, False, False], 'unobstructed': [False, False, False, False, False, False, False, False, False, False, False, False, False, False, False, False, False, False, True, False, False, False, False, False, False, False, False, False, False, False, False, False, False, False, False, False, False, False, False, False, False, False, False, True, False, True, False, False, False, False, False, False, False], 'height': 1.5581623228470718}, {'image_id': '81dab76afc424a5b9ab7c7d2432c633f', 'pose': [-0.805274, -0.00263522, 0.592896, 3.95265, -0.592901, 0.00527109, -0.805258, 2.17644, -0.00100313, -0.999982, -0.00580695, 1.56141, 0, 0, 0, 1], 'included': True, 'visible': [False, False, False, True, True, False, False, False, True, False, True, False, False, False, True, False, False, False, False, False, True, True, False, False, False, False, False, False, False, False, False, True, False, False, False, False, False, False, False, True, False, True, False, False, False, False, False, False, False, False, True, False, False], 'unobstructed': [False, False, False, False, False, False, False, False, False, False, True, False, False, False, False, False, False, False, False, False, True, False, False, False, False, False, False, False, False, False, False, True, False, False, False, False, False, False, False, True, False, True, False, False, False, False, False, False, False, False, False, False, False], 'height': 1.5578036730113782}, {'image_id': '2c687aab96b7498b92023a4888c6e7ab', 'pose': [-0.77358, -0.00977587, -0.633623, 13.3479, 0.633593, 0.0062399, -0.773641, 6.71026, 0.0115168, -0.999933, 0.00136701, 1.56005, 0, 0, 0, 1], 'included': True, 'visible': [False, False, False, False, False, False, False, False, False, False, False, False, False, False, False, False, False, True, False, False, False, False, False, False, False, False, False, False, True, False, False, False, False, False, False, False, False, False, False, False, False, False, True, False, False, False, False, False, False, False, False, False, False], 'unobstructed': [False, False, False, False, False, False, False, False, False, False, False, False, False, False, False, False, False, True, False, False, False, False, False, False, False, False, False, False, True, False, False, False, False, False, False, False, False, False, False, False, False, False, True, False, False, False, False, False, False, False, False, False, False], 'height': 1.5569622119301756}, {'image_id': '2e349b06dd94494ea4b887458e4ab4a3', 'pose': [-0.971009, -0.00736751, 0.23893, 14.2656, -0.23893, -0.000935677, -0.971036, 6.97428, 0.00737773, -0.999972, -0.000851613, 1.55556, 0, 0, 0, 1], 'included': True, 'visible': [False, False, False, False, False, False, False, False, False, False, False, False, False, False, False, False, False, False, False, False, False, False, False, False, False, False, False, True, False, False, False, False, False, False, False, False, False, False, False, False, False, False, True, False, False, False, False, False, False, False, False, False, False], 'unobstructed': [False, False, False, False, False, False, False, False, False, False, False, False, False, False, False, False, False, False, False, False, False, False, False, False, False, False, False, True, False, False, False, False, False, False, False, False, False, False, False, False, False, False, True, False, False, False, False, False, False, False, False, False, False], 'height': 1.5548105113650228}, {'image_id': 'ab993d543aed47fe9360f05eb03f301b', 'pose': [-0.222345, -0.0162215, 0.974833, 5.02353, -0.974967, 0.00211141, -0.222341, 0.0737373, 0.00154846, -0.999866, -0.0162847, 1.55481, 0, 0, 0, 1], 'included': True, 'visible': [False, False, False, False, False, False, False, False, False, False, True, False, False, False, False, False, False, False, False, False, False, False, False, False, True, False, False, False, False, False, False, False, False, False, False, False, False, True, True, False, True, False, False, True, True, False, True, False, False, True, False, False, False], 'unobstructed': [False, False, False, False, False, False, False, False, False, False, True, False, False, False, False, False, True, False, False, False, False, False, False, False, False, False, False, False, False, False, False, False, False, False, False, False, False, True, True, False, False, False, False, False, False, False, False, False, False, False, False, False, True], 'height': 1.5487626040532223}, {'image_id': '65eefaf93e6249908e6389eb4eabf0f5', 'pose': [-0.181344, 0.00352911, -0.983413, 11.2799, 0.983207, 0.0214194, -0.181229, 5.68034, 0.0204246, -0.999764, -0.00735398, 1.57036, 0, 0, 0, 1], 'included': True, 'visible': [False, False, False, False, False, False, True, False, False, False, False, False, False, False, False, False, False, False, False, False, False, True, False, False, False, False, False, False, False, False, False, False, True, False, False, False, False, False, False, False, False, False, False, False, False, False, True, False, False, False, False, False, False], 'unobstructed': [False, False, False, False, False, False, True, False, False, False, False, False, False, False, False, False, False, False, False, False, False, True, False, False, False, False, False, False, False, False, False, False, True, False, False, False, False, False, False, False, False, False, False, False, False, False, False, False, False, False, False, False, False], 'height': 1.553863687959086}, {'image_id': '320c0ec6c0a343fea6227a2699d0eb7a', 'pose': [-0.339897, -0.0032173, 0.940457, 3.02216, -0.940436, -0.00638431, -0.339911, 2.33309, 0.00709781, -0.999974, -0.000855498, 1.55489, 0, 0, 0, 1], 'included': True, 'visible': [False, False, False, True, False, False, False, False, True, False, False, False, False, False, True, False, False, False, False, False, True, True, False, False, False, False, True, False, False, False, False, False, False, False, False, False, False, False, False, True, False, False, False, False, False, False, False, False, False, False, True, False, False], 'unobstructed': [False, False, False, False, False, False, False, False, False, False, False, False, False, False, False, False, False, False, False, False, False, False, False, False, False, False, True, False, False, False, False, False, False, False, False, False, False, False, False, True, False, False, False, False, False, False, False, False, False, False, False, False, False], 'height': 1.5471529697093949}, {'image_id': '6472b7993a6e440a9d0e12b560ff4616', 'pose': [0.112871, 0.0104996, -0.993554, 11.4871, 0.993405, 0.0191105, 0.113056, 7.50779, 0.0201744, -0.999762, -0.00827321, 1.57406, 0, 0, 0, 1], 'included': True, 'visible': [False, False, False, False, False, False, True, False, False, False, False, False, False, False, False, False, False, False, False, False, False, False, False, False, False, False, False, False, False, False, True, False, False, False, False, False, False, False, False, False, False, False, False, False, False, False, False, False, False, False, False, False, False], 'unobstructed': [False, False, False, False, False, False, False, False, False, False, False, False, False, False, False, False, False, False, False, False, False, False, False, False, False, False, False, False, False, False, True, False, False, False, False, False, False, False, False, False, False, False, False, False, False, False, False, False, False, False, False, False, False], 'height': 1.5597303443928154}, {'image_id': 'c74a7da1a0e04e7b8b14e1cdab613653', 'pose': [0.998393, 0.00698477, -0.0562377, 7.40198, 0.0562964, -0.00851621, 0.998378, 7.31716, 0.00649455, -0.999939, -0.00889559, 1.53494, 0, 0, 0, 1], 'included': True, 'visible': [False, True, False, False, False, False, False, False, False, False, False, False, False, False, False, False, False, False, False, False, False, False, False, False, False, False, False, False, False, False, False, False, False, False, False, False, False, False, False, False, False, False, False, False, False, False, False, False, False, False, False, False, False], 'unobstructed': [False, True, False, False, False, False, False, False, False, False, False, False, False, False, False, False, False, False, False, False, False, False, False, False, False, False, False, False, False, False, False, False, False, False, False, False, False, False, False, False, False, False, False, False, False, False, False, False, False, False, False, False, False], 'height': 1.5364607143438498}, {'image_id': 'e6ba61dd42c64410877149cc11766a8b', 'pose': [-0.00834608, -0.00276013, 0.999961, 6.03643, -0.999957, -0.00409388, -0.00835736, 6.80116, 0.00411683, -0.999988, -0.00272569, 1.55411, 0, 0, 0, 1], 'included': True, 'visible': [False, False, True, False, False, True, False, False, False, False, False, False, False, False, False, False, False, False, False, False, False, False, False, False, False, False, False, False, False, False, False, False, False, False, False, False, False, False, False, False, False, False, False, False, False, False, False, False, False, False, False, False, False], 'unobstructed': [False, False, True, False, False, True, False, False, False, False, False, False, False, False, False, False, False, False, False, False, False, False, False, False, False, False, False, False, False, False, False, False, False, False, False, False, False, False, False, False, False, False, False, False, False, False, False, False, False, False, False, False, False], 'height': 1.5672774947738883}, {'image_id': 'd1ef235f79dd480da8b1f320bf073701', 'pose': [0.614877, -0.00964203, -0.788564, 15.12, 0.788623, 0.00831419, 0.614821, 5.83775, 0.000628196, -0.999919, 0.0127163, 1.55427, 0, 0, 0, 1], 'included': True, 'visible': [False, False, False, False, False, False, False, False, False, False, False, False, False, False, False, False, False, False, False, False, False, False, False, False, False, False, False, False, False, False, False, False, False, False, False, False, False, False, False, False, False, False, False, False, False, False, False, False, True, False, False, False, False], 'unobstructed': [False, False, False, False, False, False, False, False, False, False, False, False, False, False, False, False, False, False, False, False, False, False, False, False, False, False, False, False, False, False, False, False, False, False, False, False, False, False, False, False, False, False, False, False, False, False, False, False, True, False, False, False, False], 'height': 1.5565819158428589}, {'image_id': 'ead481533f834704bd489d3d44b6a03a', 'pose': [-0.621043, -0.0288613, 0.783245, 6.81547, -0.783446, -0.00615418, -0.621429, 4.18524, 0.0227555, -0.999564, -0.0187891, 1.56337, 0, 0, 0, 1], 'included': True, 'visible': [True, True, True, False, False, True, False, False, False, False, False, True, False, False, False, True, False, False, False, True, False, False, False, False, False, False, False, False, False, False, False, False, False, False, False, False, False, False, False, False, False, True, False, False, False, False, False, True, False, False, False, False, False], 'unobstructed': [False, True, True, False, False, True, False, False, False, False, False, False, False, False, False, False, False, False, False, False, False, False, False, False, False, False, False, False, False, False, False, False, False, False, False, False, False, False, False, False, False, False, False, False, False, False, False, False, False, False, False, False, False], 'height': 1.556145416469}, {'image_id': 'dc046de639fa43e29b3da505c030f58f', 'pose': [-0.643407, -0.00606892, 0.7655, 6.92498, -0.765518, 0.00112378, -0.643414, -1.17284, 0.00304462, -0.999981, -0.00536876, 1.55034, 0, 0, 0, 1], 'included': True, 'visible': [False, False, False, False, False, False, False, False, False, False, True, False, False, False, False, False, True, False, False, False, False, False, False, False, False, False, False, False, False, True, False, False, False, False, False, False, False, False, True, False, False, False, False, False, False, False, False, False, False, False, False, False, True], 'unobstructed': [False, False, False, False, False, False, False, False, False, False, True, False, False, False, False, False, True, False, False, False, False, False, False, False, False, False, False, False, False, True, False, False, False, False, False, False, False, False, True, False, False, False, False, False, False, False, False, False, False, False, False, False, True], 'height': 1.5445394411362876}, {'image_id': 'f237319a500640d8ac172db225a3ce9c', 'pose': [0.868676, -0.00029593, -0.49538, 7.86057, 0.495356, -0.00935668, 0.86864, 0.238644, -0.00489213, -0.999956, -0.00798119, 1.56107, 0, 0, 0, 1], 'included': True, 'visible': [False, False, False, True, False, False, False, False, False, False, True, False, False, False, False, False, True, False, False, False, False, False, False, False, True, False, False, False, False, True, False, False, False, False, False, False, False, True, False, False, True, False, False, True, True, False, True, False, False, True, False, False, True], 'unobstructed': [False, False, False, False, False, False, False, False, False, False, False, False, False, False, False, False, True, False, False, False, False, False, False, False, False, False, False, False, False, True, False, False, False, False, False, False, False, True, False, False, False, False, False, False, True, False, False, False, False, False, False, False, False], 'height': 1.5598220099850857}, {'image_id': '5340c12f388446b589bf2c082c39bd5e', 'pose': [-0.16912, 0.00442839, -0.985585, 2.16026, 0.985591, 0.00356335, -0.169105, 1.71447, 0.00276317, -0.999984, -0.00496707, 1.56253, 0, 0, 0, 1], 'included': True, 'visible': [False, False, False, False, False, False, False, False, False, False, False, False, False, False, False, False, False, False, False, False, True, False, False, False, False, False, True, False, False, False, False, True, False, False, False, False, False, False, False, False, False, False, False, False, False, False, False, False, False, False, False, False, False], 'unobstructed': [False, False, False, False, False, False, False, False, False, False, False, False, False, False, False, False, False, False, False, False, False, False, False, False, False, False, True, False, False, False, False, True, False, False, False, False, False, False, False, False, False, False, False, False, False, False, False, False, False, False, False, False, False], 'height': 1.5608157557417015}, {'image_id': '34c20d99605545a885983a9b004f27a2', 'pose': [-0.971891, -0.00302961, 0.23541, 17.4595, -0.235426, 0.00677657, -0.971869, -0.215684, 0.00134915, -0.999972, -0.00729918, 1.56271, 0, 0, 0, 1], 'included': True, 'visible': [False, False, False, True, False, False, False, False, False, False, True, False, False, False, False, False, False, False, False, False, False, False, False, False, True, False, False, False, False, True, False, False, False, False, False, False, False, False, True, False, False, False, False, True, True, False, True, False, False, True, False, False, False], 'unobstructed': [False, False, False, True, False, False, False, False, False, False, False, False, False, False, False, False, False, False, False, False, False, False, False, False, False, False, False, False, False, False, False, False, False, False, False, False, False, False, False, False, False, False, False, False, False, False, True, False, False, False, False, False, False], 'height': 1.552139392964472}, {'image_id': 'e1f88263b98d46909c3e00e9250b6a4b', 'pose': [0.723594, 0.00447728, 0.690211, 3.88721, -0.690173, -0.0076217, 0.723604, 4.10875, 0.00850041, -0.999961, -0.00242477, 1.55956, 0, 0, 0, 1], 'included': True, 'visible': [True, True, True, False, True, False, False, False, False, False, True, True, False, False, False, True, False, False, False, True, False, False, True, False, False, False, True, False, False, False, False, False, False, False, False, False, True, False, False, False, False, False, False, False, False, False, False, True, False, False, False, False, False], 'unobstructed': [False, False, True, False, True, False, False, False, False, False, False, False, False, False, False, True, False, False, False, True, False, False, False, False, False, False, True, False, False, False, False, False, False, False, False, False, False, False, False, False, False, False, False, False, False, False, False, False, False, False, False, False, False], 'height': 1.5582001097422944}, {'image_id': 'aabf649f606a48a1b16d5bdcd5970602', 'pose': [-0.844433, -0.0112619, 0.535543, 15.8823, -0.535573, -0.000450588, -0.844489, 6.66095, 0.0097519, -0.999936, -0.00565092, 1.54508, 0, 0, 0, 1], 'included': True, 'visible': [False, False, False, False, False, False, False, False, False, True, False, False, False, False, False, False, False, False, False, False, False, False, False, False, False, False, False, True, True, False, False, False, False, False, False, False, False, False, False, False, False, False, False, False, False, False, False, False, False, False, False, True, False], 'unobstructed': [False, False, False, False, False, False, False, False, False, True, False, False, False, False, False, False, False, False, False, False, False, False, False, False, False, False, False, True, True, False, False, False, False, False, False, False, False, False, False, False, False, False, False, False, False, False, False, False, False, False, False, True, False], 'height': 1.5489136759748783}, {'image_id': '3493ecf114864afc99d568421c0b42f6', 'pose': [0.998742, 0.00358576, 0.0500241, 12.857, -0.0500207, -0.00102557, 0.998748, 0.069469, 0.00363262, -0.999993, -0.000844762, 1.56252, 0, 0, 0, 1], 'included': True, 'visible': [False, False, False, False, False, False, False, False, False, False, True, False, False, False, False, False, False, False, True, False, False, True, False, True, True, True, False, False, False, True, False, False, False, False, False, False, False, False, True, False, True, False, False, False, True, True, True, False, False, True, True, False, False], 'unobstructed': [False, False, False, False, False, False, False, False, False, False, False, False, False, False, False, False, False, False, True, False, False, True, False, False, False, True, False, False, False, False, False, False, False, False, False, False, False, False, False, False, False, False, False, False, True, False, True, False, False, False, True, False, False], 'height': 1.5575091922526596}, {'image_id': '145a35f5ca544943b8bc2f997e5f9978', 'pose': [0.959891, 0.0108033, -0.280165, 10.112, 0.280173, 0.000831793, 0.959949, 0.192094, 0.0106037, -0.999941, -0.00222821, 1.55522, 0, 0, 0, 1], 'included': True, 'visible': [False, False, False, True, False, False, False, False, False, False, True, False, False, False, False, False, False, False, False, False, False, False, False, False, True, True, False, False, False, True, False, False, False, False, False, False, False, False, True, False, True, False, False, True, False, True, True, False, False, True, True, False, False], 'unobstructed': [False, False, False, False, False, False, False, False, False, False, False, False, False, False, False, False, False, False, False, False, False, False, False, False, False, False, False, False, False, False, False, False, False, False, False, False, False, False, True, False, False, False, False, True, False, False, False, False, False, False, True, False, False], 'height': 1.555379120851938}, {'image_id': 'd48feeed33774f64adb093679b9fcebf', 'pose': [0.869544, -0.00139667, 0.493854, 10.0267, -0.493852, -0.00603175, 0.869525, -4.03332, 0.0017644, -0.999981, -0.00593447, 1.55835, 0, 0, 0, 1], 'included': True, 'visible': [False, False, False, True, False, False, False, False, False, False, False, False, False, False, False, False, False, False, True, False, False, False, False, False, False, True, False, False, False, False, False, False, False, False, False, False, False, False, False, False, False, False, False, False, False, False, True, False, False, False, True, False, False], 'unobstructed': [False, False, False, False, False, False, False, False, False, False, False, False, False, False, False, False, False, False, True, False, False, False, False, False, False, True, False, False, False, False, False, False, False, False, False, False, False, False, False, False, False, False, False, False, False, False, False, False, False, False, False, False, False], 'height': 1.5596353650594286}, {'image_id': '84f05044aa1542a18b082255100f2c39', 'pose': [-0.604353, 0.00681538, -0.796687, 14.387, 0.796694, -0.00227465, -0.604378, 0.216119, -0.00593121, -0.999974, -0.00405493, 1.56261, 0, 0, 0, 1], 'included': True, 'visible': [False, False, False, False, False, False, False, False, False, False, True, False, False, False, False, False, False, False, True, False, False, True, False, False, True, True, False, False, False, True, True, False, False, False, False, False, False, False, True, False, True, False, False, True, True, True, False, False, False, True, True, False, False], 'unobstructed': [False, False, False, False, False, False, False, False, False, False, False, False, False, False, False, False, False, False, True, False, False, True, False, False, False, False, False, False, False, False, False, False, False, False, False, False, False, False, False, False, True, False, False, True, False, False, False, False, False, False, True, False, False], 'height': 1.5601081379755166}, {'image_id': 'b1d919ce693d442d8273032815ce860a', 'pose': [0.952913, 0.00797483, -0.303138, -2.19142, 0.303006, 0.0144365, 0.952879, 3.94345, 0.0119754, -0.999864, 0.0113405, 1.54431, 0, 0, 0, 1], 'included': True, 'visible': [False, False, True, False, False, False, False, False, False, False, False, True, False, False, False, False, False, False, False, True, False, False, False, False, False, False, False, False, False, False, False, False, False, False, False, False, True, False, False, False, False, True, False, False, False, False, False, False, False, False, False, False, False], 'unobstructed': [False, False, False, False, False, False, False, False, False, False, False, True, False, False, False, False, False, False, False, False, False, False, False, False, False, False, False, False, False, False, False, False, False, False, False, False, False, False, False, False, False, False, False, False, False, False, False, False, False, False, False, False, False], 'height': 0.951882515855277}, {'image_id': '61c98135870e449a846737f610d0e969', 'pose': [0.619574, 0.00208563, -0.784935, 15.0686, 0.7849, 0.00813892, 0.619568, 4.48482, 0.00768076, -0.999964, 0.0034058, 1.53977, 0, 0, 0, 1], 'included': True, 'visible': [False, False, False, False, False, False, True, False, False, True, False, False, False, True, False, False, False, False, False, False, False, False, False, True, False, False, False, False, False, False, False, False, False, False, False, True, False, False, False, False, False, False, False, False, False, False, False, False, False, False, False, True, False], 'unobstructed': [False, False, False, False, False, False, False, False, False, False, False, False, False, True, False, False, False, False, False, False, False, False, False, False, False, False, False, False, False, False, False, False, False, False, False, True, False, False, False, False, False, False, False, False, False, False, False, False, False, False, False, True, False], 'height': 1.545933333404709}, {'image_id': '935e0f6088a54fba87990835d1997d9a', 'pose': [-0.0261742, 0.00117632, -0.999656, 0.102541, 0.999533, 0.0157979, -0.0261524, 0.185072, 0.0157618, -0.999874, -0.00158912, 1.55252, 0, 0, 0, 1], 'included': True, 'visible': [False, False, False, False, False, False, False, False, False, False, True, False, False, False, False, False, False, False, False, False, False, False, False, False, True, False, False, False, False, True, False, False, False, False, False, False, False, False, True, False, True, False, False, True, True, False, True, False, False, False, False, False, False], 'unobstructed': [False, False, False, False, False, False, False, False, False, False, False, False, False, False, False, False, False, False, False, False, False, False, False, False, True, False, False, False, False, False, False, False, False, False, False, False, False, False, False, False, False, False, False, False, False, False, False, False, False, False, False, False, False], 'height': 1.564670546062465}, {'image_id': '0753202108e24c0094f09c60b8f36127', 'pose': [0.784171, 0.00616988, 0.620514, 14.0516, -0.620362, -0.0164337, 0.784143, 1.9896, 0.0150354, -0.999846, -0.00905912, 1.56248, 0, 0, 0, 1], 'included': True, 'visible': [False, False, False, True, False, False, True, False, True, False, False, False, False, False, True, False, False, False, True, False, True, True, False, False, False, True, True, False, False, False, False, True, False, False, False, False, False, False, False, False, False, False, False, True, False, False, True, False, False, False, False, False, False], 'unobstructed': [False, False, False, True, False, False, True, False, False, False, False, False, False, False, False, False, False, False, True, False, False, True, False, False, False, False, False, False, False, False, False, False, False, False, False, False, False, False, False, False, False, False, False, True, True, False, True, False, False, False, False, False, False], 'height': 1.560164319191793}, {'image_id': '38260e04f02546a6af3dcaf8689546a2', 'pose': [0.997561, 0.00109886, -0.0697886, 16.1372, 0.0697861, 0.00221774, 0.997559, 4.53708, 0.001251, -0.999997, 0.00213579, 1.53845, 0, 0, 0, 1], 'included': True, 'visible': [False, False, False, False, False, False, True, False, False, True, False, False, False, True, False, False, False, False, False, False, False, False, False, True, False, False, False, False, False, False, False, False, False, False, False, False, False, False, False, False, False, False, True, False, False, False, False, False, True, False, False, False, False], 'unobstructed': [False, False, False, False, False, False, False, True, False, True, False, False, False, False, False, False, False, False, False, False, False, False, False, False, False, False, False, False, False, False, False, False, False, False, False, False, False, False, False, False, False, False, True, False, False, False, False, False, True, False, False, False, False], 'height': 1.5454616649287138}, {'image_id': '2caadd7bc71c43d5ad10f4e7f10a3455', 'pose': [-0.720036, 0.0043335, 0.693923, 4.95578, -0.693933, -0.00127524, -0.720038, -3.92222, -0.00223533, -0.99999, 0.00392553, 1.54757, 0, 0, 0, 1], 'included': True, 'visible': [False, False, False, False, False, False, False, False, False, False, False, False, False, False, False, False, True, False, False, False, False, False, False, False, False, False, False, False, False, True, False, False, False, False, False, False, False, True, True, False, False, True, False, False, False, False, False, False, False, False, False, False, False], 'unobstructed': [False, False, False, False, False, False, False, False, False, False, False, False, False, False, False, False, True, False, False, False, False, False, False, False, False, False, False, False, False, True, False, False, False, False, False, False, False, True, False, False, False, False, False, False, False, False, False, False, False, False, False, False, False], 'height': 1.5493667032151701}]\n",
      "[{'image_id': 'ead481533f834704bd489d3d44b6a03a', 'pose': [-0.621043, -0.0288613, 0.783245, 6.81547, -0.783446, -0.00615418, -0.621429, 4.18524, 0.0227555, -0.999564, -0.0187891, 1.56337, 0, 0, 0, 1], 'included': True, 'visible': [True, True, True, False, False, True, False, False, False, False, False, True, False, False, False, True, False, False, False, True, False, False, False, False, False, False, False, False, False, False, False, False, False, False, False, False, False, False, False, False, False, True, False, False, False, False, False, True, False, False, False, False, False], 'unobstructed': [False, False, False, False, False, False, False, False], 'height': 1.556145416469}]\n"
     ]
    }
   ],
   "source": [
    "scan_folders = [idx2scan_folder(idx, trajectory_data, instr_id2scan, instr_id2txt) for idx in idxs]\n",
    "\n",
    "with open('./mesh_json/jolin_mesh_names.json', 'w') as fp:\n",
    "    json.dump(scan_folders, fp)\n",
    "\n",
    "for idx, (scan, folder) in zip(idxs, scan_folders):\n",
    "    with open('./mesh_json/%s.json'% scan, 'w') as fp:\n",
    "        trajectory, viewpointId2idx, conn_data=traj2conn_json(graph_path, idx, trajectory_data, instr_id2scan)\n",
    "        print(trajectory)\n",
    "        print(viewpointId2idx)\n",
    "        print(conn_data)\n",
    "        json.dump(gen_conns(trajectory, viewpointId2idx, conn_data, trajectory_data, idx), fp)\n",
    "        # json.dump(gen_conns(trajectory, viewpointId2idx, conn_data), fp)"
   ]
  },
  {
   "cell_type": "markdown",
   "metadata": {},
   "source": [
    "## Visualize the result through the Web Browser"
   ]
  },
  {
   "cell_type": "markdown",
   "metadata": {},
   "source": [
    "### 1. Install the chrome and chrome driver"
   ]
  },
  {
   "cell_type": "code",
   "execution_count": 50,
   "metadata": {},
   "outputs": [
    {
     "data": {
      "text/plain": [
       "'\\n#Check the version of chrome\\n/Applications/Google\\\\ Chrome.app/Contents/MacOS/Google\\\\ Chrome --version\\n\\n#install the chrome driver\\nbrew install --cask chromedriver\\n\\n#verify the installation\\nchromedriver --version\\n'"
      ]
     },
     "execution_count": 50,
     "metadata": {},
     "output_type": "execute_result"
    }
   ],
   "source": [
    "'''\n",
    "#Check the version of chrome\n",
    "/Applications/Google\\ Chrome.app/Contents/MacOS/Google\\ Chrome --version\n",
    "\n",
    "#install the chrome driver\n",
    "brew install --cask chromedriver\n",
    "\n",
    "#verify the installation\n",
    "chromedriver --version\n",
    "'''"
   ]
  },
  {
   "cell_type": "markdown",
   "metadata": {},
   "source": [
    "### 2. Enter the folder and start http server\n"
   ]
  },
  {
   "cell_type": "markdown",
   "metadata": {},
   "source": [
    "Run\n",
    "```\n",
    "cd /projects/VLN-Tutorial/visualization/topdown_map\n",
    "\n",
    "python -m http.server 8001\n",
    "```"
   ]
  },
  {
   "cell_type": "markdown",
   "metadata": {},
   "source": [
    "### 3. Set the dataset in topdown_map folder\n",
    "```\n",
    "# First, ensure the target directory exists\n",
    "mkdir -p /projects/VLN-Tutorial/visualization/topdown_map/matterport_mesh/v1/\n",
    "\n",
    "# Then create the symbolic link\n",
    "ln -s /projects/VLN-Tutorial/duet/datasets/Matterport3D/v1_unzip_scans /projects/VLN-Tutorial/visualization/topdown_map/matterport_mesh/v1/scans\n",
    "```\n",
    "The webpage requires the mesh files to be visualized"
   ]
  },
  {
   "cell_type": "markdown",
   "metadata": {},
   "source": [
    "### 3. Start the server"
   ]
  },
  {
   "cell_type": "code",
   "execution_count": 51,
   "metadata": {},
   "outputs": [],
   "source": [
    "# import tempfile\n",
    "# from selenium import webdriver\n",
    "# from selenium.webdriver.chrome.options import Options\n",
    "# from selenium.webdriver.chrome.service import Service\n",
    "\n",
    "# # Create a fresh temporary directory for user data\n",
    "# unique_profile = tempfile.mkdtemp()\n",
    "# options = Options()\n",
    "# options.add_argument(f\"--user-data-dir={unique_profile}\")\n",
    "# # service = Service(executable_path=\"/opt/homebrew/bin/chromedriver\")\n",
    "# service = Service(executable_path=\"/usr/local/share/chromedriver\")\n",
    "\n",
    "# browser = webdriver.Chrome(service=service, options=options)\n",
    "# url = \"http://127.0.0.1:8001/connectivity.html\" #the url of the server in local machine\n",
    "# # if you run the server in remote machine, you need to change the url to the ip of the remote machine\n",
    "# browser.get(url)"
   ]
  },
  {
   "cell_type": "code",
   "execution_count": 52,
   "metadata": {},
   "outputs": [],
   "source": [
    "# imgData= browser.execute_script('return renderer.domElement.toDataURL().replace(\"image/png\", \"image/octet-stream\")')\n",
    "# display(HTML('''<img src=\"%s\">'''%(imgData)))"
   ]
  }
 ],
 "metadata": {
  "kernelspec": {
   "display_name": "vln",
   "language": "python",
   "name": "python3"
  },
  "language_info": {
   "codemirror_mode": {
    "name": "ipython",
    "version": 3
   },
   "file_extension": ".py",
   "mimetype": "text/x-python",
   "name": "python",
   "nbconvert_exporter": "python",
   "pygments_lexer": "ipython3",
   "version": "3.10.16"
  }
 },
 "nbformat": 4,
 "nbformat_minor": 2
}
